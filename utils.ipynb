{
 "cells": [
  {
   "cell_type": "code",
   "execution_count": 2,
   "id": "7a360796",
   "metadata": {},
   "outputs": [
    {
     "name": "stdout",
     "output_type": "stream",
     "text": [
      "Đã đổi tên 900 file trong 'dataset/train/LR'.\n"
     ]
    }
   ],
   "source": [
    "import os\n",
    "\n",
    "def rename_lr_images(lr_folder):\n",
    "    count = 0\n",
    "    for filename in os.listdir(lr_folder):\n",
    "        if 'x4' in filename:\n",
    "            new_name = filename.replace('x4', '')\n",
    "            old_path = os.path.join(lr_folder, filename)\n",
    "            new_path = os.path.join(lr_folder, new_name)\n",
    "            os.rename(old_path, new_path)\n",
    "            count += 1\n",
    "    print(f\"Đã đổi tên {count} file trong '{lr_folder}'.\")\n",
    "\n",
    "# Gọi hàm\n",
    "rename_lr_images('dataset/train/LR')\n"
   ]
  },
  {
   "cell_type": "code",
   "execution_count": null,
   "id": "a3406b32",
   "metadata": {},
   "outputs": [],
   "source": []
  }
 ],
 "metadata": {
  "kernelspec": {
   "display_name": "torch_env",
   "language": "python",
   "name": "python3"
  },
  "language_info": {
   "codemirror_mode": {
    "name": "ipython",
    "version": 3
   },
   "file_extension": ".py",
   "mimetype": "text/x-python",
   "name": "python",
   "nbconvert_exporter": "python",
   "pygments_lexer": "ipython3",
   "version": "3.10.16"
  }
 },
 "nbformat": 4,
 "nbformat_minor": 5
}
